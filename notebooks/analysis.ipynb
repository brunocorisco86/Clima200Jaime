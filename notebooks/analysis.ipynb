{
 "cells": [
  {
   "cell_type": "markdown",
   "metadata": {},
   "source": [
    "# 📊 Análise de Dados: Projeto Clima+ 200 (Jaime Basso)\n",
    "\n",
    "Este *notebook* realiza a **Análise Exploratória de Dados (EDA)** e a visualização dos dados sumarizados. O foco é correlacionar as **leituras diárias dos sensores IoT (Amônia, Temperatura, Umidade, etc.)** com as métricas de desempenho zootécnico dos lotes, testando a eficiência do novo modelo de reaproveitamento de calor e ambiência, conforme o escopo estratégico do projeto. 🐔📈\n",
    "\n",
    "Os dados utilizados foram gerados a partir do processamento do banco de dados `clima.db` e estão prontos para análise."
   ]
  },
  {
   "cell_type": "code",
   "execution_count": null,
   "metadata": {},
   "outputs": [],
   "source": [
    "import pandas as pd\n",
    "import matplotlib.pyplot as plt\n",
    "import seaborn as sns\n",
    "import os\n",
    "\n",
    "# Configuração inicial para melhor visualização dos gráficos\n",
    "sns.set_theme(style=\"whitegrid\", palette=\"viridis\")\n",
    "\n",
    "# 📂 Definição de Paths (Usando pathlib para um código mais \"pythonico\")\n",
    "from pathlib import Path\n",
    "\n",
    "# Assumindo que este notebook está em 'src' e os dados em '../data/processed'\n",
    "project_root = Path(os.getcwd()).parent.parent if 'src' in os.getcwd().split(os.sep) else Path(os.getcwd()).parent\n",
    "processed_data_directory = project_root / 'data' / 'processed'\n",
    "\n",
    "# 📥 Carregar dados sumarizados\n",
    "try:\n",
    "    daily_iot_df = pd.read_csv(processed_data_directory / 'daily_iot_summary.csv')\n",
    "    lote_performance_df = pd.read_csv(processed_data_directory / 'lote_performance_summary.csv')\n",
    "\n",
    "    print(\"✅ Dados IoT Diários Carregados:\")\n",
    "    print(daily_iot_df.head().to_markdown(index=False))\n",
    "    \n",
    "    print(\"\\n✅ Desempenho dos Lotes Carregado:\")\n",
    "    print(lote_performance_df.head().to_markdown(index=False))\n",
    "    \n",
    "except FileNotFoundError as e:\n",
    "    print(f\"❌ ERRO: Arquivo não encontrado. Verifique o path: {e.filename}\")\n",
    "    # Encerrar ou criar DataFrames vazios para evitar erro no resto do notebook\n",
    "    daily_iot_df = pd.DataFrame()\n",
    "    lote_performance_df = pd.DataFrame()"
   ]
  },
  {
   "cell_type": "markdown",
   "metadata": {},
   "source": [
    "--- \n",
    "## 🔍 Análise Exploratória de Dados (EDA) e Tipos de Dados\n",
    "\n",
    "Verificar a estrutura, valores faltantes e estatísticas básicas é crucial antes da análise principal."
   ]
  },
  {
   "cell_type": "code",
   "execution_count": null,
   "metadata": {},
   "outputs": [],
   "source": [
    "if not daily_iot_df.empty:\n",
    "    print(\"\\n✨ Daily IoT Summary Info:\")\n",
    "    daily_iot_df.info()\n",
    "    print(\"\\n📈 Daily IoT Summary Describe:\")\n",
    "    print(daily_iot_df.describe().T.to_markdown())\n",
    "\n",
    "if not lote_performance_df.empty:\n",
    "    print(\"\\n✨ Lote Performance Summary Info:\")\n",
    "    lote_performance_df.info()\n",
    "    print(\"\\n📈 Lote Performance Summary Describe:\")\n",
    "    print(lote_performance_df.describe().T.to_markdown())"
   ]
  },
  {
   "cell_type": "markdown",
   "metadata": {},
   "source": [
    "--- \n",
    "## 🧹 Limpeza e Pré-processamento de Dados\n",
    "\n",
    "Converter colunas de **data** para o tipo *datetime* é essencial para manipulação e visualização de séries temporais."
   ]
  },
  {
   "cell_type": "code",
   "execution_count": null,
   "metadata": {},
   "outputs": [],
   "source": [
    "if not daily_iot_df.empty:\n",
    "    # Assumindo que o formato '%d/%m/%Y' (dia/mês/ano) está correto.\n",
    "    daily_iot_df['Data'] = pd.to_datetime(daily_iot_df['Data'], format='%d/%m/%Y', errors='coerce')\n",
    "    daily_iot_df = daily_iot_df.dropna(subset=['Data']) # Remove linhas com data inválida\n",
    "    daily_iot_df = daily_iot_df.sort_values(by='Data').reset_index(drop=True)\n",
    "    print(\"Data Types after IoT conversion:\")\n",
    "    print(daily_iot_df[['Data']].info())\n",
    "\n",
    "if not lote_performance_df.empty:\n",
    "    # Assumindo o mesmo formato para a data de alojamento\n",
    "    lote_performance_df['data_alojamento'] = pd.to_datetime(lote_performance_df['data_alojamento'], format='%d/%m/%Y', errors='coerce')\n",
    "    lote_performance_df = lote_performance_df.dropna(subset=['data_alojamento'])\n",
    "    print(\"\\nData Types after Lote conversion:\")\n",
    "    print(lote_performance_df[['data_alojamento']].info())"
   ]
  },
  {
   "cell_type": "markdown",
   "metadata": {},
   "source": [
    "--- \n",
    "## 🖼️ Visualizações e Análise de Tendências\n",
    "\n",
    "Visualizações são a melhor forma de encontrar *insights* sobre a ambiência e o desempenho."
   ]
  },
  {
   "cell_type": "code",
   "execution_count": null,
   "metadata": {},
   "outputs": [],
   "source": [
    "if not daily_iot_df.empty and 'Grandeza' in daily_iot_df.columns:\n",
    "    # Exemplo 1: Valores diários médios por 'Grandeza' (Série Temporal)\n",
    "    plt.figure(figsize=(15, 7))\n",
    "    # Usando style mais limpo do sns\n",
    "    sns.lineplot(data=daily_iot_df, x='Data', y='average_valor', hue='Grandeza')\n",
    "    plt.title('Médias Diárias dos Sensores IoT ao Longo do Tempo', fontsize=16)\n",
    "    plt.xlabel('Data', fontsize=12)\n",
    "    plt.ylabel('Valor Médio', fontsize=12)\n",
    "    plt.legend(title='Grandeza', bbox_to_anchor=(1.05, 1), loc=2)\n",
    "    plt.xticks(rotation=45)\n",
    "    plt.tight_layout()\n",
    "    plt.show()"
   ]
  },
  {
   "cell_type": "code",
   "execution_count": null,
   "metadata": {},
   "outputs": [],
   "source": [
    "if not lote_performance_df.empty:\n",
    "    # Exemplo 2: Desempenho do Lote - Taxa de Mortalidade por Grupo de Teste\n",
    "    plt.figure(figsize=(10, 6))\n",
    "    # Usando boxplot para ver a distribuição e outliers\n",
    "    sns.boxplot(data=lote_performance_df, x='lote_composto', y='mortalidade_percent', hue='teste_realizado')\n",
    "    plt.title('Distribuição da Mortalidade (%) por Lote e Teste', fontsize=16)\n",
    "    plt.xlabel('Lote Composto', fontsize=12)\n",
    "    plt.ylabel('Mortalidade (%)', fontsize=12)\n",
    "    plt.tight_layout()\n",
    "    plt.show()"
   ]
  },
  {
   "cell_type": "code",
   "execution_count": null,
   "metadata": {},
   "outputs": [],
   "source": [
    "if not lote_performance_df.empty:\n",
    "    # Exemplo 3: Matriz de Correlação entre Variáveis Zootécnicas e Ambiência\n",
    "    \n",
    "    # Atenção: Lista de colunas duplicadas corrigida e refinada!\n",
    "    correlation_cols = [\n",
    "        # Métricas Zootécnicas\n",
    "        'mortalidade_percent', 'idade_abate', 'conversao_ajustada', 'iep', 'peso_medio',\n",
    "        'remuneracao_sqr_meter_brl', # Indicador Financeiro\n",
    "        'aero_parcial', 'condenacao_efetiva_kg', 'contaminacao_parcial', # Indicadores de Qualidade\n",
    "        # Métricas de Ambiência Agregadas (se existirem na sumarização do lote)\n",
    "        'avg_umidade', 'avg_temperatura', 'avg_amonia', 'avg_corrente', 'avg_energia', 'avg_pressao'\n",
    "    ]\n",
    "\n",
    "    # Filtrar colunas existentes e com dados (sem ser só NaN)\n",
    "    existing_correlation_cols = [\n",
    "        col for col in correlation_cols \n",
    "        if col in lote_performance_df.columns and not lote_performance_df[col].isnull().all()\n",
    "    ]\n",
    "\n",
    "    if len(existing_correlation_cols) > 1:\n",
    "        plt.figure(figsize=(12, 10))\n",
    "        # Calcula a correlação e gera o mapa de calor\n",
    "        corr_matrix = lote_performance_df[existing_correlation_cols].corr()\n",
    "        sns.heatmap(corr_matrix, annot=True, cmap='coolwarm', fmt='.2f', linewidths=.5, linecolor='black')\n",
    "        plt.title('Matriz de Correlação entre Desempenho e Ambiência', fontsize=16)\n",
    "        plt.tight_layout()\n",
    "        plt.show()\n",
    "    else:\n",
    "        print(\"⚠️ Não há colunas suficientes ou relevantes para análise de correlação no DataFrame de Desempenho do Lote.\")"
   ]
  },
  {
   "cell_type": "markdown",
   "metadata": {},
   "source": [
    "--- \n",
    "## 💡 Insights e Conclusões (A Ser Preenchido)\n",
    "\n",
    "Após a execução das células acima, use esta seção para registrar as principais descobertas. \n",
    "Foque em: \n",
    "\n",
    "1.  **Diferença Amônia/Temperatura:** Há uma correlação clara entre o uso do Clima+ 200 (*teste_realizado*) e os níveis médios de amônia/temperatura? (KPI de qualidade do ar)\n",
    "2.  **Impacto Zootécnico:** Qual é a correlação entre as variáveis de ambiência (principalmente **Amônia**) e o **IEP** ou **Conversão Alimentar Ajustada**? (KPI de eficiência/custo)\n",
    "3.  **Sugestão de Ação:** O que os dados sugerem em relação ao modelo de reaproveitamento de calor? Há um *case* claro para a expansão da tecnologia? (Alinhamento estratégico e ESG)"
   ]
  }
 ],
 "metadata": {
  "kernelspec": {
   "display_name": "Python 3",
   "language": "python",
   "name": "python3"
  },
  "language_info": {
   "codemirror_mode": {
    "name": "ipython",
    "version": 3
   },
   "file_extension": ".py",
   "mimetype": "text/x-python",
   "name": "python",
   "nbconvert_exporter": "python",
   "pygments_lexer": "ipython3",
   "version": "3.9.7 (default, Sep 30 2021, 06:34:47) \n[GCC 7.5.0]"
  }
 },
 "nbformat": 4,
 "nbformat_minor": 4
}