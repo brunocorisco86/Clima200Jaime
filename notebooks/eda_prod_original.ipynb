Text file: eda_prod_original.ipynb
Latest content with line numbers:
1	{
2	 "cells": [
3	  {
4	   "cell_type": "markdown",
5	   "metadata": {},
6	   "source": [
7	    "# Análise Exploratória de Dados: Clima vs. Testemunha"
8	   ]
9	  },
10	  {
11	   "cell_type": "code",
12	   "execution_count": 43,
13	   "metadata": {},
14	   "outputs": [],
15	   "source": [
16	    "import pandas as pd\n",
17	    "from sqlalchemy import create_engine\n",
18	    "import matplotlib.pyplot as plt\n",
19	    "import seaborn as sns\n",
20	    "\n",
21	    "sns.set_style('whitegrid')\n",
22	    "\n",
23	    "engine = create_engine('sqlite:///../database/clima_prod.db')\n",
24	    "df_performance = pd.read_sql('lote_performance_summary', engine)\n",
25	    "df_iot = pd.read_sql('daily_iot_summary', engine)\n",
26	    "df_acompanhamento = pd.read_sql('acompanhamento_lotes_data', engine)"
27	   ]
28	  },
29	  {
30	   "cell_type": "markdown",
31	   "metadata": {},
32	   "source": [
33	    "## 1. Limpeza e Preparação dos Dados\n",
34	    "Nesta seção, os dados das tabelas `lote_performance_summary`, `daily_iot_summary` e `acompanhamento_lotes_data` são carregados, limpos e unidos em um único DataFrame para análise. As principais etapas incluem a padronização de nomes de colunas e valores, conversão de tipos de dados e a fusão das tabelas com base no `lote_composto` e `idade_lote`."
35	   ]
36	  },
37	  {
38	   "cell_type": "code",
39	   "execution_count": 44,
40	   "metadata": {},
41	   "outputs": [
42	    {
43	     "name": "stdout",
44	     "output_type": "stream",
45	     "text": [
46	      "Dados prontos para análise.\n"
47	     ]
48	    }
49	   ],
50	   "source": [
51	    "df_acompanhamento['lote_composto'] = df_acompanhamento['lote_composto'].str.replace('_', '-')\n",
52	    "df_acompanhamento = df_acompanhamento.rename(columns={'Idade': 'idade_lote'})\n",
53	    "df_performance['data_alojamento'] = pd.to_datetime(df_performance['data_alojamento'], format='%d/%m/%Y')\n",
54	    "df_iot['Data'] = pd.to_datetime(df_iot['Data'], format='%d/%m/%Y', errors='coerce')\n",
55	    "df_acompanhamento['Data'] = pd.to_datetime(df_acompanhamento['Data'], format='%d/%m/%Y', errors='coerce')\n",
56	    "df_iot['max_valor'] = pd.to_numeric(df_iot['max_valor'], errors='coerce')\n",
57	    "df_iot['min_valor'] = pd.to_numeric(df_iot['min_valor'], errors='coerce')\n",
58	    "df_merged = pd.merge(df_iot, df_acompanhamento, on=['lote_composto', 'idade_lote'], how='outer', suffixes=('_iot', '_acomp'))\n",
59	    "df_final = pd.merge(df_merged, df_performance, on='lote_composto', how='left', suffixes=('', '_perf'))\n",
60	    "lotes_interesse = ['1282-19', '1283-19']\n",
61	    "df_final = df_final[df_final['lote_composto'].isin(lotes_interesse)].copy()\n",
62	    "df_final['teste_realizado'] = df_final['teste_realizado'].replace('CLIMA200', 'CLIMA')\n",
63	    "print('Dados prontos para análise.')"
64	   ]
65	  },
66	  {
67	   "cell_type": "markdown",
68	   "metadata": {},
69	   "source": [
70	    "## 2. Análise Comparativa de Indicadores de Desempenho\n",
71	    "Os gráficos de barras a seguir comparam os principais indicadores de desempenho (KPIs) entre os tratamentos 'CLIMA' e 'TESTEMUNHA'. Isso nos permite ter uma visão geral de qual tratamento obteve melhores resultados em termos de mortalidade, conversão alimentar, IEP, peso médio e remuneração."
72	   ]
73	  },
74	  {
75	   "cell_type": "code",
76	   "execution_count": 45,
77	   "metadata": {},
78	   "outputs": [
79	    {
80	     "data": {
81	(Content truncated due to size limit. Use page ranges or line ranges to read remaining content)